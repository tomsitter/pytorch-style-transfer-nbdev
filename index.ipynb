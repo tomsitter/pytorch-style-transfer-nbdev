{
 "cells": [
  {
   "cell_type": "code",
   "execution_count": null,
   "metadata": {},
   "outputs": [],
   "source": [
    "#hide\n",
    "from pytorch_nst.main import *"
   ]
  },
  {
   "cell_type": "markdown",
   "metadata": {},
   "source": [
    "# PyTorch Neural Style Transfer with nbdev\n",
    "\n",
    "> This is an implentation of neural style transfer in PyTorch using a VGG-19. Most code is lifted from the official tutorial and modified to run as a command-line application and in Jupyter Notebooks using nbdev"
   ]
  },
  {
   "cell_type": "markdown",
   "metadata": {},
   "source": [
    "## Install"
   ]
  },
  {
   "cell_type": "markdown",
   "metadata": {},
   "source": [
    "`pip install pytorch_nst`"
   ]
  },
  {
   "cell_type": "markdown",
   "metadata": {},
   "source": [
    "## How to use"
   ]
  },
  {
   "cell_type": "markdown",
   "metadata": {},
   "source": [
    "This module is a command line tool\n",
    "`nst`\n",
    "\n",
    "Use `nst --help` for more details:\n",
    "\n",
    "```\n",
    "Usage: nst [OPTIONS]\n",
    "\n",
    "Options:\n",
    "  -c, --content TEXT      path to content image  [default:\n",
    "                          ./examples/content.jpg]\n",
    "\n",
    "  -s, --style TEXT        path to style image  [default: ./examples/style.jpg]\n",
    "  -o, --output TEXT       path to save generated image  [default:\n",
    "                          ./output/generated-1608872128.jpg]\n",
    "\n",
    "  --style_weight INTEGER  [default: 1000000]\n",
    "  --style_layers TEXT     Conv Layers to use for style loss  [default:\n",
    "                          1,2,3,4,5]\n",
    "\n",
    "  --steps INTEGER         [default: 300]\n",
    "  --random_input          Will start with random noise if set, otherwise\n",
    "                          content image\n",
    "\n",
    "  --help                  Show this message and exit.\n",
    "  ```"
   ]
  },
  {
   "cell_type": "code",
   "execution_count": null,
   "metadata": {},
   "outputs": [],
   "source": []
  }
 ],
 "metadata": {
  "kernelspec": {
   "display_name": "pytorch-style-transfer-nbdev",
   "language": "python",
   "name": "pytorch-style-transfer-nbdev"
  }
 },
 "nbformat": 4,
 "nbformat_minor": 4
}
